{
 "cells": [
  {
   "cell_type": "code",
   "execution_count": 3,
   "metadata": {},
   "outputs": [],
   "source": [
    "from IPython.display import clear_output\n",
    "\n",
    "def display_board(board):\n",
    "    clear_output()\n",
    "    print(board[6]+\"|\"+ board[7]+\"|\"+ board[8])\n",
    "    print(board[3]+\"|\"+ board[4]+\"|\"+ board[5]) \n",
    "    print(board[0]+\"|\"+ board[1]+\"|\"+ board[2])"
   ]
  },
  {
   "cell_type": "code",
   "execution_count": 4,
   "metadata": {},
   "outputs": [],
   "source": [
    "board = ['x','o','x','o','x','o', 'x','o','x']"
   ]
  },
  {
   "cell_type": "code",
   "execution_count": 6,
   "metadata": {},
   "outputs": [
    {
     "name": "stdout",
     "output_type": "stream",
     "text": [
      "x|o|x\n",
      "o|x|o\n",
      "x|o|x\n"
     ]
    }
   ],
   "source": [
    "display_board(board)"
   ]
  },
  {
   "cell_type": "code",
   "execution_count": 5,
   "metadata": {},
   "outputs": [],
   "source": [
    "def player_input():\n",
    "    marker = \"\"\n",
    "    marker = input()\n",
    "    return marker"
   ]
  },
  {
   "cell_type": "code",
   "execution_count": 11,
   "metadata": {},
   "outputs": [
    {
     "name": "stdout",
     "output_type": "stream",
     "text": [
      "x\n"
     ]
    },
    {
     "data": {
      "text/plain": [
       "'x'"
      ]
     },
     "execution_count": 11,
     "metadata": {},
     "output_type": "execute_result"
    }
   ],
   "source": [
    "player_input()"
   ]
  },
  {
   "cell_type": "code",
   "execution_count": 6,
   "metadata": {},
   "outputs": [],
   "source": [
    "def playtictactoe(mylist,marker,num):\n",
    "    mylist[num]= marker\n",
    "    return mylist\n",
    "    "
   ]
  },
  {
   "cell_type": "code",
   "execution_count": 7,
   "metadata": {},
   "outputs": [],
   "source": [
    "def gamerun(mylist):\n",
    "    num = 0\n",
    "    while num < len(mylist):\n",
    "        marker = player_input()\n",
    "        playtictactoe(mylist,marker,num)\n",
    "        num +=1\n",
    "        "
   ]
  },
  {
   "cell_type": "code",
   "execution_count": 8,
   "metadata": {},
   "outputs": [],
   "source": [
    "mylist = [\"\",\"\",\"\",\"\",\"\",\"\",\"\",\"\",\"\"]"
   ]
  },
  {
   "cell_type": "code",
   "execution_count": 24,
   "metadata": {},
   "outputs": [
    {
     "name": "stdout",
     "output_type": "stream",
     "text": [
      "x\n",
      "o\n",
      "x\n",
      "o\n",
      "x\n",
      "o\n",
      "o\n",
      "x\n",
      "o\n"
     ]
    }
   ],
   "source": [
    "gamerun(mylist)"
   ]
  },
  {
   "cell_type": "code",
   "execution_count": 25,
   "metadata": {},
   "outputs": [
    {
     "name": "stdout",
     "output_type": "stream",
     "text": [
      "o|x|o\n",
      "o|x|o\n",
      "x|o|x\n"
     ]
    }
   ],
   "source": [
    "display_board(mylist)"
   ]
  },
  {
   "cell_type": "code",
   "execution_count": 9,
   "metadata": {},
   "outputs": [],
   "source": [
    "def gamerunning(mylist,num):\n",
    "    marker = player_input()\n",
    "    \n",
    "    playtictactoe(mylist,marker,num)\n",
    "    display_board(mylist)"
   ]
  },
  {
   "cell_type": "code",
   "execution_count": 12,
   "metadata": {},
   "outputs": [
    {
     "name": "stdout",
     "output_type": "stream",
     "text": [
      "||\n",
      "||\n",
      "||x\n"
     ]
    }
   ],
   "source": [
    "gamerunning( [\"\",\"\",\"\",\"\",\"\",\"\",\"\",\"\",\"\"],2)"
   ]
  },
  {
   "cell_type": "code",
   "execution_count": 14,
   "metadata": {},
   "outputs": [
    {
     "name": "stdout",
     "output_type": "stream",
     "text": [
      "|o|\n",
      "||\n",
      "||x\n"
     ]
    }
   ],
   "source": [
    "gamerunning([\"\",\"\",\"x\",\"\",\"\",\"\",\"\",\"\",\"\"],7)"
   ]
  },
  {
   "cell_type": "code",
   "execution_count": 14,
   "metadata": {},
   "outputs": [],
   "source": [
    "def gamerunprogressive(mylist):\n",
    "    count = 0\n",
    "    while count < 9:\n",
    "        num = int(player_input())\n",
    "        gamerunning(mylist,num)\n",
    "        count +=1\n",
    "    "
   ]
  },
  {
   "cell_type": "code",
   "execution_count": 10,
   "metadata": {},
   "outputs": [
    {
     "ename": "NameError",
     "evalue": "name 'gameprogressive' is not defined",
     "output_type": "error",
     "traceback": [
      "\u001b[0;31m---------------------------------------------------------------------------\u001b[0m",
      "\u001b[0;31mNameError\u001b[0m                                 Traceback (most recent call last)",
      "\u001b[0;32m<ipython-input-10-c968d8c7f700>\u001b[0m in \u001b[0;36m<module>\u001b[0;34m()\u001b[0m\n\u001b[0;32m----> 1\u001b[0;31m \u001b[0mgameprogressive\u001b[0m\u001b[0;34m(\u001b[0m\u001b[0mmylist\u001b[0m\u001b[0;34m)\u001b[0m\u001b[0;34m\u001b[0m\u001b[0m\n\u001b[0m",
      "\u001b[0;31mNameError\u001b[0m: name 'gameprogressive' is not defined"
     ]
    }
   ],
   "source": [
    "gameprogressive(mylist)"
   ]
  },
  {
   "cell_type": "code",
   "execution_count": 15,
   "metadata": {},
   "outputs": [
    {
     "name": "stdout",
     "output_type": "stream",
     "text": [
      "x|x|o\n",
      "o|o|x\n",
      "x|o|x\n"
     ]
    }
   ],
   "source": [
    "gamerunprogressive(mylist)"
   ]
  },
  {
   "cell_type": "code",
   "execution_count": 18,
   "metadata": {},
   "outputs": [],
   "source": [
    "def win_check(board,marker):\n",
    "    \n",
    "    win1 = 1\n",
    "    win2 = 1\n",
    "    win3 = 1\n",
    "    for i in range(6,9):\n",
    "        if board[i] != marker:\n",
    "            win1 = 0\n",
    "        else:\n",
    "            win1 = win1*1\n",
    "    for i in range(3,6):\n",
    "        if board[i] != marker:\n",
    "            win2 = 0\n",
    "        else:\n",
    "            win2 = win2*1\n",
    "    \n",
    "    for i in range(0,3):\n",
    "        if board[i] != marker:\n",
    "            win3 = 0\n",
    "        else:\n",
    "            win3 = win3*1\n",
    "    \n",
    "    return win1 + win2 + win3 \n",
    "    \n",
    "         \n",
    "            "
   ]
  },
  {
   "cell_type": "code",
   "execution_count": 21,
   "metadata": {},
   "outputs": [],
   "source": [
    "myboard = ['x','o','o','x','0', 'x','o', 'o','x']"
   ]
  },
  {
   "cell_type": "code",
   "execution_count": 22,
   "metadata": {},
   "outputs": [
    {
     "data": {
      "text/plain": [
       "0"
      ]
     },
     "execution_count": 22,
     "metadata": {},
     "output_type": "execute_result"
    }
   ],
   "source": [
    "win_check(myboard, 'x')"
   ]
  },
  {
   "cell_type": "code",
   "execution_count": null,
   "metadata": {},
   "outputs": [],
   "source": []
  }
 ],
 "metadata": {
  "kernelspec": {
   "display_name": "Python 3",
   "language": "python",
   "name": "python3"
  },
  "language_info": {
   "codemirror_mode": {
    "name": "ipython",
    "version": 3
   },
   "file_extension": ".py",
   "mimetype": "text/x-python",
   "name": "python",
   "nbconvert_exporter": "python",
   "pygments_lexer": "ipython3",
   "version": "3.6.4"
  }
 },
 "nbformat": 4,
 "nbformat_minor": 2
}
