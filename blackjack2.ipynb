{
 "cells": [
  {
   "cell_type": "code",
   "execution_count": 19,
   "metadata": {},
   "outputs": [],
   "source": [
    "import random"
   ]
  },
  {
   "cell_type": "code",
   "execution_count": 20,
   "metadata": {},
   "outputs": [],
   "source": [
    "suits = (\"hearts\", \"clubs\", \"diamonds\", \"spades\")\n",
    "ranks = (\"two\", \"three\", \"four\", \"five\", \"six\", \"seven\", \"eight\", \"nine\", \"ten\", \"jack\",\"queen\", \"king\",\"ace\")"
   ]
  },
  {
   "cell_type": "code",
   "execution_count": 21,
   "metadata": {},
   "outputs": [],
   "source": [
    "values = {\"two\":2, \"three\":3, \"four\":4, \"five\":5, \"six\":6, \"seven\":7, \"eight\":8, \"nine\":9,\n",
    "          \"ten\":10, \"jack\":10,\"queen\":10,\"king\":10,\"ace\":11}"
   ]
  },
  {
   "cell_type": "code",
   "execution_count": 22,
   "metadata": {},
   "outputs": [],
   "source": [
    "class Card:\n",
    "    def __init__(self,rank,suit):\n",
    "        self.rank = rank\n",
    "        self.suit = suit\n",
    "    def __str__(self):\n",
    "        return self.rank + self.suit\n",
    "     "
   ]
  },
  {
   "cell_type": "code",
   "execution_count": 23,
   "metadata": {},
   "outputs": [],
   "source": [
    "class Deck:\n",
    "    def __init__(self):\n",
    "        self.deck = []\n",
    "        for rank in ranks:\n",
    "            for suit in suits:\n",
    "                self.deck.append(Card(rank,suit))\n",
    "    def __str__(self):\n",
    "        completedeck = ''\n",
    "        for card in self.deck:\n",
    "            completedeck += \"\\n\" + card.__str__()\n",
    "        return \"the deck consists of:\" + completedeck\n",
    "        \n",
    "    def shuffle(self):\n",
    "        random.shuffle(self.deck)\n",
    "        \n",
    "    def deal(self):\n",
    "        single_Card = self.deck.pop()\n",
    "        return single_Card\n",
    "        "
   ]
  },
  {
   "cell_type": "code",
   "execution_count": 24,
   "metadata": {},
   "outputs": [
    {
     "name": "stdout",
     "output_type": "stream",
     "text": [
      "the deck consists of:\n",
      "queenhearts\n",
      "tenspades\n",
      "nineclubs\n",
      "jackspades\n",
      "queenspades\n",
      "eightdiamonds\n",
      "sevendiamonds\n",
      "threediamonds\n",
      "eightclubs\n",
      "sixhearts\n",
      "tenclubs\n",
      "threehearts\n",
      "ninediamonds\n",
      "jackdiamonds\n",
      "twoclubs\n",
      "tendiamonds\n",
      "fivediamonds\n",
      "fiveclubs\n",
      "ninehearts\n",
      "jackhearts\n",
      "queenclubs\n",
      "kingdiamonds\n",
      "acehearts\n",
      "ninespades\n",
      "twohearts\n",
      "fourhearts\n",
      "fourspades\n",
      "fourclubs\n",
      "eightspades\n",
      "twodiamonds\n",
      "tenhearts\n",
      "sevenhearts\n",
      "threeclubs\n",
      "acediamonds\n",
      "eighthearts\n",
      "kinghearts\n",
      "sevenclubs\n",
      "fivespades\n",
      "kingclubs\n",
      "jackclubs\n",
      "fivehearts\n",
      "acespades\n",
      "twospades\n",
      "sixclubs\n",
      "sixdiamonds\n",
      "fourdiamonds\n",
      "sixspades\n",
      "sevenspades\n",
      "kingspades\n",
      "aceclubs\n",
      "queendiamonds\n",
      "threespades\n"
     ]
    }
   ],
   "source": [
    "mydeck = Deck()\n",
    "mydeck.shuffle()\n",
    "print(mydeck)"
   ]
  },
  {
   "cell_type": "code",
   "execution_count": 25,
   "metadata": {},
   "outputs": [
    {
     "name": "stdout",
     "output_type": "stream",
     "text": [
      "the deck consists of:\n",
      "queenhearts\n",
      "tenspades\n",
      "nineclubs\n",
      "jackspades\n",
      "queenspades\n",
      "eightdiamonds\n",
      "sevendiamonds\n",
      "threediamonds\n",
      "eightclubs\n",
      "sixhearts\n",
      "tenclubs\n",
      "threehearts\n",
      "ninediamonds\n",
      "jackdiamonds\n",
      "twoclubs\n",
      "tendiamonds\n",
      "fivediamonds\n",
      "fiveclubs\n",
      "ninehearts\n",
      "jackhearts\n",
      "queenclubs\n",
      "kingdiamonds\n",
      "acehearts\n",
      "ninespades\n",
      "twohearts\n",
      "fourhearts\n",
      "fourspades\n",
      "fourclubs\n",
      "eightspades\n",
      "twodiamonds\n",
      "tenhearts\n",
      "sevenhearts\n",
      "threeclubs\n",
      "acediamonds\n",
      "eighthearts\n",
      "kinghearts\n",
      "sevenclubs\n",
      "fivespades\n",
      "kingclubs\n",
      "jackclubs\n",
      "fivehearts\n",
      "acespades\n",
      "twospades\n",
      "sixclubs\n",
      "sixdiamonds\n",
      "fourdiamonds\n",
      "sixspades\n",
      "sevenspades\n",
      "kingspades\n",
      "aceclubs\n",
      "queendiamonds\n",
      "threespades\n"
     ]
    }
   ],
   "source": [
    "print(mydeck)"
   ]
  },
  {
   "cell_type": "code",
   "execution_count": 26,
   "metadata": {},
   "outputs": [],
   "source": [
    "class Hand:\n",
    "    def __init__(self):\n",
    "        self.cards = []\n",
    "        self.total = 0\n",
    "        self.aces = 0\n",
    "        \n",
    "    def addcard(self,card):\n",
    "        self.cards.append(card)\n",
    "        self.total += values[card.rank]\n",
    "        if card.rank ==\"ace\":\n",
    "            self.aces += 1\n",
    "            \n",
    "    def adjustaces(self):\n",
    "        while (self.total >= 22 and self.aces > 0 ):\n",
    "            self.total -= 10\n",
    "            self.aces -= 1\n",
    "        "
   ]
  },
  {
   "cell_type": "code",
   "execution_count": 27,
   "metadata": {},
   "outputs": [],
   "source": [
    "class Money:\n",
    "    def __init__(self,amount,bet):\n",
    "        self.amount = amount\n",
    "        self.bet = bet\n",
    "    def winbet(self):\n",
    "        self.amount += self.bet\n",
    "    def losebet(self):\n",
    "        self.amount -= self.bet\n",
    "        "
   ]
  },
  {
   "cell_type": "code",
   "execution_count": 28,
   "metadata": {},
   "outputs": [],
   "source": [
    "def takeabet(money):\n",
    "    while True:\n",
    "        try: \n",
    "            money.bet = (int)(input(\"how much money do you bet?   \"))\n",
    "        except:\n",
    "            print(\"you must provide an int\")\n",
    "        else:\n",
    "            if (money.bet > money.amount):\n",
    "                print(\"your funds are lacking\")\n",
    "            else:\n",
    "                break\n",
    "        "
   ]
  },
  {
   "cell_type": "code",
   "execution_count": 29,
   "metadata": {},
   "outputs": [],
   "source": [
    "def hit(deck,hand):\n",
    "    card = deck.deal()\n",
    "    hand.addcard(card)\n",
    "    hand.adjustaces()"
   ]
  },
  {
   "cell_type": "code",
   "execution_count": 30,
   "metadata": {},
   "outputs": [],
   "source": [
    "def hitorstand(deck,hand):\n",
    "    global gamestatus\n",
    "    while True:\n",
    "        x = input(\"Do you want to hit or stand? Enter h or s    \")\n",
    "        if x[0].lower() == 'h':\n",
    "            hit(deck,hand)\n",
    "        elif x[0].lower() == 's':\n",
    "            print(\"Player stands so it's the Dealer's turn\")\n",
    "            gamestatus = False\n",
    "        else:\n",
    "            print(\"Sorry\")\n",
    "            continue\n",
    "        break    \n",
    "    "
   ]
  },
  {
   "cell_type": "code",
   "execution_count": 31,
   "metadata": {},
   "outputs": [],
   "source": [
    "def playerwins(player,dealer,money):\n",
    "    print(\"player wins\")\n",
    "    money.winbet()"
   ]
  },
  {
   "cell_type": "code",
   "execution_count": 32,
   "metadata": {},
   "outputs": [],
   "source": [
    "def dealerwins(player,dealer,money):\n",
    "    print(\"dealer wins\")\n",
    "    money.losebet()"
   ]
  },
  {
   "cell_type": "code",
   "execution_count": 33,
   "metadata": {},
   "outputs": [],
   "source": [
    "def gameistie(player,dealer,money):\n",
    "    print(\"game is a tie\")"
   ]
  },
  {
   "cell_type": "code",
   "execution_count": 34,
   "metadata": {},
   "outputs": [],
   "source": [
    "def showpartial(player,dealer):\n",
    "    print(\"\\n Dealer has \")\n",
    "    print(\"hidden card\")\n",
    "    print(' ',dealer.cards[1])\n",
    "    print(\"\\n  Player has\", *player.cards, sep = '\\n')"
   ]
  },
  {
   "cell_type": "code",
   "execution_count": 35,
   "metadata": {},
   "outputs": [],
   "source": [
    "def showall(player,dealer):\n",
    "    print(\"\\n Dealer has \",  *dealer.cards, sep = '\\n')\n",
    "    print(\"\\nDealer value\", dealer.total)\n",
    "    print(\"\\n Player has \",  *player.cards, sep ='\\n')\n",
    "    print(\"\\nPlayer value\", player.total)"
   ]
  },
  {
   "cell_type": "code",
   "execution_count": null,
   "metadata": {},
   "outputs": [
    {
     "name": "stdout",
     "output_type": "stream",
     "text": [
      "welcome to blackjack\n",
      "how much money do you bet?   700\n",
      "\n",
      " Dealer has \n",
      "hidden card\n",
      "  sevenspades\n",
      "\n",
      "  Player has\n",
      "acehearts\n",
      "twoclubs\n"
     ]
    }
   ],
   "source": [
    "initial = 1000\n",
    "while True:\n",
    "        print(\"welcome to blackjack\")\n",
    "        deck = Deck()\n",
    "        deck.shuffle()\n",
    "        player = Hand()\n",
    "        player.addcard(deck.deal())\n",
    "        player.addcard(deck.deal())\n",
    "        dealer = Hand()\n",
    "        dealer.addcard(deck.deal())\n",
    "        dealer.addcard(deck.deal())\n",
    "        \n",
    "        money = Money(initial,0)\n",
    "        takeabet(money)\n",
    "        \n",
    "        showpartial(player,dealer)\n",
    "        gamestatus = True\n",
    "        while gamestatus:\n",
    "            hitorstand(deck,player)\n",
    "            showpartial(player,dealer)\n",
    "            player.adjustaces()\n",
    "            if player.total > 21 and player.aces == 0:\n",
    "                dealerwins(player,dealer,money)\n",
    "                break\n",
    "        if player.total <= 21:\n",
    "            while dealer.total < 17:\n",
    "                hit(deck,dealer)\n",
    "                showall(player,dealer)\n",
    "            if dealer.total> 21:\n",
    "                playerwins(player,dealer,money)\n",
    "            elif dealer.total > player.total:\n",
    "                dealerwins(player,dealer,money)\n",
    "            elif player.total > dealer.total:\n",
    "                playerwins(player,dealer,money)\n",
    "            \n",
    "            else:\n",
    "                gameistie(player,dealer,money)\n",
    "        print(\"\\nPlayerwinnings are \",money.amount)  \n",
    "        newgame = input(\"play again, y or n:  \")\n",
    "        if newgame[0].lower() == 'y':\n",
    "            gamestatus = True\n",
    "            initial = money.amount\n",
    "            continue\n",
    "        else:\n",
    "            print(\"goodbye\")\n",
    "            break\n",
    "            \n",
    "        "
   ]
  },
  {
   "cell_type": "code",
   "execution_count": null,
   "metadata": {},
   "outputs": [],
   "source": []
  },
  {
   "cell_type": "code",
   "execution_count": null,
   "metadata": {},
   "outputs": [],
   "source": []
  }
 ],
 "metadata": {
  "kernelspec": {
   "display_name": "Python 3",
   "language": "python",
   "name": "python3"
  },
  "language_info": {
   "codemirror_mode": {
    "name": "ipython",
    "version": 3
   },
   "file_extension": ".py",
   "mimetype": "text/x-python",
   "name": "python",
   "nbconvert_exporter": "python",
   "pygments_lexer": "ipython3",
   "version": "3.7.4"
  }
 },
 "nbformat": 4,
 "nbformat_minor": 2
}
